{
 "cells": [
  {
   "cell_type": "markdown",
   "id": "7e52cb62-b578-4ccc-bc65-518554101691",
   "metadata": {},
   "source": [
    "##### Set kernel to Julia before running\n",
    "\n",
    "This notebook handles simulation for data generation. Code is written in Julia because it can run ODE solvers faster than Python."
   ]
  },
  {
   "cell_type": "code",
   "execution_count": 1,
   "id": "1d02fed6-97de-47a4-9ae0-5853fad70848",
   "metadata": {},
   "outputs": [],
   "source": [
    "using DifferentialEquations, YAML\n",
    "using Random, Distributions, DataFrames, CSV"
   ]
  },
  {
   "cell_type": "code",
   "execution_count": 2,
   "id": "c37ebfd7-0757-4dc5-9a31-e1d5c32a38af",
   "metadata": {},
   "outputs": [
    {
     "data": {
      "text/plain": [
       "accel_const (generic function with 1 method)"
      ]
     },
     "execution_count": 2,
     "metadata": {},
     "output_type": "execute_result"
    }
   ],
   "source": [
    "function accel_const(velocity, acceleration, params)\n",
    "    v_switch = params[\"v_switch\"]\n",
    "    v_min = params[\"v_min\"]\n",
    "    v_max = params[\"v_max\"]\n",
    "    a_max = params[\"a_max\"]\n",
    "\n",
    "    if velocity > v_switch\n",
    "        pos_limit = a_max * v_switch / velocity\n",
    "\n",
    "    else\n",
    "        pos_limit = a_max\n",
    "    end\n",
    "    if(velocity <= v_min && acceleration <= 0) || (velocity >= v_max && acceleration >= 0)\n",
    "        acceleration = 0.\n",
    "    elseif acceleration <= -a_max\n",
    "        acceleration = -a_max\n",
    "    elseif acceleration >= pos_limit\n",
    "        acceleration = pos_limit\n",
    "    end\n",
    "    return acceleration\n",
    "end"
   ]
  },
  {
   "cell_type": "code",
   "execution_count": 3,
   "id": "d24d7c8d-5e1e-4a8f-8486-1676f8c4fe0e",
   "metadata": {},
   "outputs": [
    {
     "data": {
      "text/plain": [
       "steering_const (generic function with 1 method)"
      ]
     },
     "execution_count": 3,
     "metadata": {},
     "output_type": "execute_result"
    }
   ],
   "source": [
    "function steering_const(steering_angle, steering_velocity, params)\n",
    "\n",
    "    s_min = params[\"s_min\"]\n",
    "    s_max = params[\"s_max\"]\n",
    "    sv_min = params[\"sv_min\"]\n",
    "    sv_max = params[\"sv_max\"]\n",
    "\n",
    "    if(steering_angle <= s_min && steering_velocity <= 0) || (steering_angle >= s_max && steering_velocity >= 0)\n",
    "        steering_velocity = 0.\n",
    "    elseif steering_velocity <= sv_min\n",
    "        steering_velocity = sv_min\n",
    "    elseif steering_velocity >= sv_max\n",
    "        steering_velocity = sv_max\n",
    "    end\n",
    "\n",
    "    return steering_velocity\n",
    "end"
   ]
  },
  {
   "cell_type": "code",
   "execution_count": 4,
   "id": "a5371bb9-1d70-48a7-85a6-eb97cf17b644",
   "metadata": {
    "editable": true,
    "slideshow": {
     "slide_type": ""
    },
    "tags": []
   },
   "outputs": [
    {
     "data": {
      "text/plain": [
       "kinematic_model! (generic function with 1 method)"
      ]
     },
     "execution_count": 4,
     "metadata": {},
     "output_type": "execute_result"
    }
   ],
   "source": [
    "function kinematic_model!(dx, x, u_initial, t)\n",
    "    p = YAML.load_file(\"params.yml\")\n",
    "    Iz = p[\"I\"]\n",
    "    lr = p[\"lr\"]\n",
    "    lf = p[\"lf\"]\n",
    "    C_Sr = p[\"C_Sr\"]\n",
    "    C_Sf = p[\"C_Sf\"]\n",
    "    g = 9.81\n",
    "    h = p[\"h\"]\n",
    "    m = p[\"m\"]\n",
    "    mu = p[\"mu\"]\n",
    "    u =[]\n",
    "\n",
    "    append!(u, steering_const(x[3], u_initial[1], p))\n",
    "    append!(u, accel_const(x[4], u_initial[2], p))\n",
    "\n",
    "    dx[1] = x[4] * cos(x[5])\n",
    "    dx[2] = x[4] * sin(x[5])\n",
    "    dx[3] = u[1]\n",
    "    dx[4] = u[2]\n",
    "    dx[5] = x[4] / (lr + lf) * tan(x[3])\n",
    "\n",
    "end\n",
    "    "
   ]
  },
  {
   "cell_type": "code",
   "execution_count": 5,
   "id": "f281c596-5dc3-4ab5-8ca3-08701f5d1125",
   "metadata": {
    "editable": true,
    "slideshow": {
     "slide_type": ""
    },
    "tags": []
   },
   "outputs": [
    {
     "data": {
      "text/plain": [
       "simulate (generic function with 1 method)"
      ]
     },
     "execution_count": 5,
     "metadata": {},
     "output_type": "execute_result"
    }
   ],
   "source": [
    "function simulate(model, num, filename)\n",
    "    accel_dist = Uniform(-.5, .5)\n",
    "    steer_vel_dist = Uniform(-.1, .1)\n",
    "    start_time = 0\n",
    "    end_time = 600\n",
    "    dt = 0.01\n",
    "    time = 0.\n",
    "    update_every = 30.\n",
    "    update_over = 15.\n",
    "    \n",
    "    Random.seed!(num)\n",
    "\n",
    "    x = []\n",
    "    x_names = []\n",
    "    dx = []\n",
    "    if model == kinematic_model!\n",
    "        sx = 0.#rand(uniform)\n",
    "        sy = 0.#rand(uniform)\n",
    "        δ = 0.#rand(uniform)\n",
    "        vel = 0.#rand(uniform)\n",
    "        ψ = 0.#rand(uniform)\n",
    "        x = [sx, sy, δ, vel, ψ]\n",
    "        dx = [0., 0., 0., 0., 0.]\n",
    "        x_names = [\"time\", \"x\", \"y\", \"steering_angle\", \"velocity\", \"heading\"]\n",
    "    end\n",
    "    u = [0., 0.]\n",
    "    \n",
    "    target_accel = 0.\n",
    "    target_steer_vel = 0.\n",
    "    accel_dif = 0.\n",
    "    steer_vel_diff = 0.\n",
    "    \n",
    "    \n",
    "    u_names = [\"time\", \"steering_velocity\", \"acceleration\"]\n",
    "    x_wt = reshape(vcat(time, x), 1, length(x_names))\n",
    "    u_wt = reshape(vcat(time, u), 1, length(u_names))\n",
    "\n",
    "    deriv_wt = reshape(vcat(time, dx), 1, length(x_names))\n",
    "    \n",
    "    obs = DataFrame(x_wt, x_names)\n",
    "    ins = DataFrame(u_wt, u_names)\n",
    "    deriv = DataFrame(deriv_wt, x_names)\n",
    "\n",
    "    while round(time, digits=3) < end_time\n",
    "        \n",
    "        if round(time, digits=3) % update_every == 0\n",
    "            target_steer_vel = rand(steer_vel_dist)\n",
    "            target_accel = rand(accel_dist)\n",
    "            accel_dif = target_accel - u[2]\n",
    "            steer_vel_diff = target_steer_vel - u[1]\n",
    "        end\n",
    "        \n",
    "        \n",
    "        # divide update into smaller steps\n",
    "    \n",
    "        if abs(u[2] - target_accel) > 0.001\n",
    "            u[2] += (1 / (update_over / dt)) * accel_dif\n",
    "        end\n",
    "    \n",
    "        if abs(u[1] - target_steer_vel) > 0.001\n",
    "            u[1] += (1 / (update_over / dt)) * steer_vel_diff\n",
    "        end\n",
    "        \n",
    "        \n",
    "        ode = ODEProblem(model, x, (time, time+dt), u)\n",
    "\n",
    "        sol = solve(ode, save_everystep = false)\n",
    "        \n",
    "        kinematic_model!(dx, x, u, time+dt)\n",
    "        x = sol.u[2]\n",
    "\n",
    "        time += dt\n",
    "        x_wt = reshape(vcat(round(time, digits=3), x), 1, length(x)+1)\n",
    "        deriv_wt = reshape(vcat(round(time, digits=3), dx), 1, length(dx)+1)\n",
    "        u_wt = reshape(vcat(round(time, digits=3), u), 1, length(u)+1)\n",
    "        push!(obs, x_wt)\n",
    "        push!(ins, u_wt)\n",
    "        push!(deriv, deriv_wt)\n",
    "    \n",
    "    end\n",
    "\n",
    "    CSV.write(\"csv/obs_$(filename)_$(num).csv\", obs)\n",
    "    CSV.write(\"csv/in_$(filename)_$(num).csv\", ins)\n",
    "    CSV.write(\"csv/deriv_$(filename)_$(num).csv\", deriv)\n",
    "end"
   ]
  },
  {
   "cell_type": "code",
   "execution_count": 6,
   "id": "56c80cc7-a325-4371-a853-db3ca7a0a593",
   "metadata": {},
   "outputs": [],
   "source": [
    "for i in 0:2\n",
    "    simulate(kinematic_model!, i, \"kinematic\")\n",
    "end\n"
   ]
  }
 ],
 "metadata": {
  "kernelspec": {
   "display_name": "Julia 1.10.3",
   "language": "julia",
   "name": "julia-1.10"
  },
  "language_info": {
   "file_extension": ".jl",
   "mimetype": "application/julia",
   "name": "julia",
   "version": "1.10.3"
  }
 },
 "nbformat": 4,
 "nbformat_minor": 5
}
